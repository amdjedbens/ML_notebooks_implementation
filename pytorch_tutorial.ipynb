{
  "nbformat": 4,
  "nbformat_minor": 0,
  "metadata": {
    "colab": {
      "name": "pytorch_tuto_example.ipynb",
      "private_outputs": true,
      "provenance": [],
      "collapsed_sections": []
    },
    "kernelspec": {
      "name": "python3",
      "display_name": "Python 3"
    },
    "language_info": {
      "name": "python"
    }
  },
  "cells": [
    {
      "cell_type": "markdown",
      "source": [
        "### Set Up\n",
        "we'll import Pytorch & set the seeds for reproducibility"
      ],
      "metadata": {
        "id": "pPqiO-O7ij1J"
      }
    },
    {
      "cell_type": "code",
      "execution_count": null,
      "metadata": {
        "id": "HrAbT5lVgifn"
      },
      "outputs": [],
      "source": [
        "import numpy as np\n",
        "import torch"
      ]
    },
    {
      "cell_type": "code",
      "source": [
        "SEED = 1234"
      ],
      "metadata": {
        "id": "qpGi6GZlgTFC"
      },
      "execution_count": null,
      "outputs": []
    },
    {
      "cell_type": "code",
      "source": [
        "np.random.seed(seed=SEED)\n",
        "torch.manual_seed(SEED)"
      ],
      "metadata": {
        "id": "oyFKKzUChD0o"
      },
      "execution_count": null,
      "outputs": []
    },
    {
      "cell_type": "markdown",
      "source": [
        "## Basics\n",
        "we'll start with some basics"
      ],
      "metadata": {
        "id": "QOmlc6oYjFNk"
      }
    },
    {
      "cell_type": "code",
      "source": [
        "# creating tensors\n",
        "t1 = torch.tensor([1,2,3])\n",
        "t2 = torch.tensor(data=[[1,2,3],\n",
        "                  [4,5,6]])\n",
        "\n",
        "# printing the tensor\n",
        "print('tensor: ', t1)\n",
        "# printing the ranks\n",
        "print('range: ', len(t1.shape))\n",
        "# printing the shape of tansors\n",
        "print('shape: ', t1.shape)\n",
        "\n",
        "# the tensor t2\n",
        "print('tensor t2: ', t2)\n",
        "print('range(t2): ', len(t2.shape))\n",
        "print('shape(t2): ', t2.shape)"
      ],
      "metadata": {
        "id": "CWcyWsntih0c"
      },
      "execution_count": null,
      "outputs": []
    },
    {
      "cell_type": "code",
      "source": [
        "data1 = [1,2,3,4,5,6]\n",
        "data2 = np.array([1.5,2.6,3.1])\n",
        "t1 = torch.tensor(data1)\n",
        "t2 = torch.Tensor(data1)\n",
        "\n",
        "tt1 = torch.as_tensor(data2)\n",
        "tt2 = torch.from_numpy(data2)\n",
        "\n",
        "print('type: ', t1.dtype, t2.dtype)\n",
        "print('type: ', tt1.dtype, tt2.dtype)"
      ],
      "metadata": {
        "id": "Qp5y-i1bgiCC"
      },
      "execution_count": null,
      "outputs": []
    },
    {
      "cell_type": "code",
      "source": [
        "t2 = torch.Tensor(data2)\n",
        "t2.dtype"
      ],
      "metadata": {
        "id": "nHyvk97FQlvF"
      },
      "execution_count": null,
      "outputs": []
    },
    {
      "cell_type": "markdown",
      "source": [
        "## Restructing\n",
        "we'll start with some shape modifications:\n",
        "- `.transpose(a,b)`\n",
        "- `.reshape(a,b)`\n",
        "- `.resize(a,b)`\n",
        "\n",
        "![image](https://media.geeksforgeeks.org/wp-content/uploads/20210223235051/Screenshot20210223234901-296x300.png)"
      ],
      "metadata": {
        "id": "x4kfDBVMiFUm"
      }
    },
    {
      "cell_type": "code",
      "source": [
        "# defining tensor\n",
        "t = torch.tensor([[1, 2, 3, 4],\n",
        "                 [5, 6, 7, 8],\n",
        "                 [9, 10, 11, 12]])"
      ],
      "metadata": {
        "id": "ZDXBT8ZUiEK_"
      },
      "execution_count": null,
      "outputs": []
    },
    {
      "cell_type": "code",
      "source": [
        "print(\"Reshaping\")\n",
        "print(t.reshape(6,2))"
      ],
      "metadata": {
        "id": "AMM7KUljo1UF"
      },
      "execution_count": null,
      "outputs": []
    },
    {
      "cell_type": "code",
      "source": [
        "print(\"Resizing\")\n",
        "print(t.resize(2,6))"
      ],
      "metadata": {
        "id": "9qQh12KKqIsy"
      },
      "execution_count": null,
      "outputs": []
    },
    {
      "cell_type": "code",
      "source": [
        "print(\"Transpose\")\n",
        "print(t.transpose(1,0))"
      ],
      "metadata": {
        "id": "8E4ZiP-tpXl5"
      },
      "execution_count": null,
      "outputs": []
    },
    {
      "cell_type": "markdown",
      "source": [
        "## Mathematical Operations on Tensors in PyTorch\n",
        "We can perform various mathematical operations on tensors using Pytorch. The code for performing Mathematical operations is the same as in the case with NumPy arrays."
      ],
      "metadata": {
        "id": "MseEtSP_RGVu"
      }
    },
    {
      "cell_type": "code",
      "source": [
        "x1 = [i*3 for i in range(1000)]\n",
        "y1 = [i*5 for i in range(1000, 2000)]\n",
        "# print(len(x), len(y))\n",
        "x = torch.tensor(x1)\n",
        "y = torch.tensor(y1)"
      ],
      "metadata": {
        "id": "jdpCdd31RudE"
      },
      "execution_count": null,
      "outputs": []
    },
    {
      "cell_type": "code",
      "source": [
        "t1 = torch.tensor([1,2,3])\n",
        "t2 = torch.tensor([4, 5, 6])\n",
        "\n",
        "# addition of two tensors\n",
        "print(\"tensor 2 + tensor 1: \", t2 + t1) # apparently it's better than torch.add(x,y)\n",
        "# substraction of two tensors\n",
        "print(\"tensor2 - tensor1: \",torch.sub(t2,t1))\n",
        "# multiplication of two tensors\n",
        "print(\"\\ntensor2 * tensor1\")\n",
        "print(torch.mul(t2, t1))\n",
        "\n",
        "# dividing two tensors\n",
        "print(\"\\ntensor2 / tensor1\")\n",
        "print(torch.div(t2, t1))\n"
      ],
      "metadata": {
        "id": "u4ACkQLNRAdh"
      },
      "execution_count": null,
      "outputs": []
    },
    {
      "cell_type": "markdown",
      "source": [
        "## Pytorch Modules\n",
        "The PyTorch library modules are essential to create and train neural networks. The three main library modules are **Autograd**, **Optim**, and **nn**."
      ],
      "metadata": {
        "id": "4TkzF_maVCT3"
      }
    },
    {
      "cell_type": "markdown",
      "source": [
        "### 1. nn Module"
      ],
      "metadata": {
        "id": "VmoCFdDTvuNe"
      }
    },
    {
      "cell_type": "code",
      "source": [
        "from torch import nn\n",
        "model = nn.Sequential(nn.Linear(1,1), nn.Sigmoid())\n",
        "model"
      ],
      "metadata": {
        "id": "j5S0ORTq1iQp"
      },
      "execution_count": null,
      "outputs": []
    },
    {
      "cell_type": "markdown",
      "source": [
        "---\n"
      ],
      "metadata": {
        "id": "sLDC2Pyp1i0J"
      }
    },
    {
      "cell_type": "markdown",
      "source": [
        "### 2. Autograd Module"
      ],
      "metadata": {
        "id": "zNAKq8EOvnPh"
      }
    },
    {
      "cell_type": "code",
      "source": [
        "t1 = torch.tensor(1.0, requires_grad=True)\n",
        "t2 = torch.tensor(2.0, requires_grad=True)\n",
        "\n",
        "# cread variable & gradient\n",
        "z = 100*t1*t2\n",
        "z.backward()\n",
        "\n",
        "# printing gradient\n",
        "print(\"dz/t1 : \", t1.grad.data) # derivative of z related to t1 (t2 is considered as const)\n",
        "print(\"dz/t2 : \", t2.grad.data)"
      ],
      "metadata": {
        "id": "SlRTGomzVAx4"
      },
      "execution_count": null,
      "outputs": []
    },
    {
      "cell_type": "code",
      "source": [
        "x = torch.rand(3,4, requires_grad=True)\n",
        "x"
      ],
      "metadata": {
        "id": "UkJW0dP_Pi7H"
      },
      "execution_count": null,
      "outputs": []
    },
    {
      "cell_type": "markdown",
      "source": [
        "### 3. Optim Module"
      ],
      "metadata": {
        "id": "2u4j8AU-vrFT"
      }
    },
    {
      "cell_type": "code",
      "source": [
        "optimizer = torch.optim.Adam(model.parameters(), lr=0.01) # defining optimizer\n",
        "optimizer.zero_grad() #setting gradients to zero\n",
        "optimizer.step() #parameter updation \n",
        "print(optimizer.param_groups)\n",
        "# optimizer."
      ],
      "metadata": {
        "id": "fzDi9o6Jvt6o"
      },
      "execution_count": null,
      "outputs": []
    },
    {
      "cell_type": "markdown",
      "source": [
        "## Pytorch Dataset & DataLoader\n",
        "`torch.utils.data.Dataset`: class contains all the custom Datasets.\n",
        "\n",
        "we need to implement:\n",
        "* `__len__()` function: returns the size of the dataset.\n",
        "* `__getitem__()` function: returns a sample (batch) of the given index from the dataset."
      ],
      "metadata": {
        "id": "CQgm9d1vrCc5"
      }
    },
    {
      "cell_type": "code",
      "source": [
        "import torch\n",
        "from torch.utils.data import Dataset\n",
        "from torch.utils.data import DataLoader"
      ],
      "metadata": {
        "id": "CjT2PfAinoFc"
      },
      "execution_count": null,
      "outputs": []
    },
    {
      "cell_type": "code",
      "source": [
        "class data_set(Dataset):\n",
        "    def __init__(self) -> None:\n",
        "        numbers = list(range(0,100,1))\n",
        "        self.data = numbers\n",
        "    def __len__(self):\n",
        "        return len(self.data)\n",
        "        \n",
        "    def __getitem__(self, index):\n",
        "        return self.data[index]\n",
        "\n",
        "dataset = data_set()\n",
        "print('dataset size: ', dataset.__len__())\n",
        "print('item at index 10: ', dataset.__getitem__(10))"
      ],
      "metadata": {
        "id": "sR1uCMwRny_Q"
      },
      "execution_count": null,
      "outputs": []
    },
    {
      "cell_type": "code",
      "source": [
        "dataloader = DataLoader(dataset, batch_size=10)"
      ],
      "metadata": {
        "id": "_Bjpg1QAoSbB"
      },
      "execution_count": null,
      "outputs": []
    },
    {
      "cell_type": "code",
      "source": [
        "for i in dataloader:\n",
        "    print(i)\n",
        "# for i, batch in enumerate(dataloader):\n",
        "#     print(i, batch)"
      ],
      "metadata": {
        "id": "aDyobsdRoyPR"
      },
      "execution_count": null,
      "outputs": []
    },
    {
      "cell_type": "code",
      "source": [
        "import seaborn as sns"
      ],
      "metadata": {
        "id": "GsTWjTRPpDyI"
      },
      "execution_count": null,
      "outputs": []
    },
    {
      "cell_type": "code",
      "source": [
        "iris = sns.load_dataset('iris')\n",
        "iris"
      ],
      "metadata": {
        "id": "muzjAv5hpjeJ"
      },
      "execution_count": null,
      "outputs": []
    },
    {
      "cell_type": "markdown",
      "source": [
        "**N.B:** we can pass `pandas series` to tensors."
      ],
      "metadata": {
        "id": "K3OtjmG1sJXI"
      }
    },
    {
      "cell_type": "code",
      "source": [
        "# this is just for testing above N.B\n",
        "# iris[['petal_length', 'petal_width']].values\n",
        "# x = torch.tensor(iris[['petal_length', 'petal_width']].values)\n",
        "# x"
      ],
      "metadata": {
        "id": "8qORbBxssa12"
      },
      "execution_count": null,
      "outputs": []
    },
    {
      "cell_type": "code",
      "source": [
        "petal_length = torch.tensor(iris['petal_length'])\n",
        "petal_width = torch.tensor(iris['petal_width'])"
      ],
      "metadata": {
        "id": "Hg5HJ6LxppxH"
      },
      "execution_count": null,
      "outputs": []
    },
    {
      "cell_type": "code",
      "source": [
        "from torch.utils.data.dataset import TensorDataset\n",
        "dataset  = TensorDataset(petal_length, petal_width)\n",
        "dataset"
      ],
      "metadata": {
        "id": "6woIGc3Lp8xk"
      },
      "execution_count": null,
      "outputs": []
    },
    {
      "cell_type": "code",
      "source": [
        "dataloader = DataLoader(dataset,batch_size=10, shuffle=True)\n",
        "for i, batch in enumerate(dataloader):\n",
        "    print(i, batch)"
      ],
      "metadata": {
        "id": "OGew8raZqIuq"
      },
      "execution_count": null,
      "outputs": []
    },
    {
      "cell_type": "markdown",
      "source": [
        "it looks like this:\n",
        "\n",
        "\n",
        "![](https://media.geeksforgeeks.org/wp-content/uploads/20210204235848/Screenshot20210204235815.png)"
      ],
      "metadata": {
        "id": "aitGCBZRq0BB"
      }
    },
    {
      "cell_type": "markdown",
      "source": [
        "---\n",
        "## Building Neural Network with PyTorch\n",
        "1. Dataset Preparation: prepare tensors for Pytorch.\n",
        "2. Building model: (define input/hidden/output layers & init. weights using `torch.randn()`\n",
        "\n",
        "3. Forward propagation: feed data to NN, matrix multiplication will be performed.\n",
        "4. Calculate loss: `Pytorch.nn` contains multiple functions to calculate loss & measure error.\n",
        "5. Back propagation (`pytorch.optim`): used to optimize weights & update weights to minimize the loss error."
      ],
      "metadata": {
        "id": "lUhQYaK7cAWm"
      }
    },
    {
      "cell_type": "code",
      "source": [
        "import torch\n",
        "# training input(x) & output(y)\n",
        "\n",
        "\n",
        "X = torch.Tensor([[1], [2], [3],\n",
        "                [4], [5], [6]])\n",
        "y = torch.Tensor([[5], [10], [15],\n",
        "                  [20], [25], [30]])\n",
        "\n",
        "class Model(torch.nn.Module):\n",
        "    #define layer\n",
        "    def __init__(self):\n",
        "        super(Model, self).__init__()\n",
        "        self.linear = torch.nn.Linear(1, 1) # input, output features = (1,1)\n",
        "    \n",
        "    # implement forward pass\n",
        "    def forward(self, x):\n",
        "        y_pred = self.linear(x)\n",
        "        return y_pred\n",
        "    \n",
        "model = torch.nn.Linear(1,1)\n",
        "# defining the loss func & optimizers\n",
        "\n",
        "loss_fn = torch.nn.L1Loss()\n",
        "optimizer = torch.optim.Adam(model.parameters(), lr=0.01)\n",
        "\n",
        "for epoch in range(1000):\n",
        "    # predicting using init weights\n",
        "    y_pred = model(X.requires_grad_())\n",
        "    \n",
        "    # loss calc\n",
        "    loss = loss_fn(y_pred, y)\n",
        "    \n",
        "    # calc gradients\n",
        "    loss.backward()\n",
        "\n",
        "    # updating weights\n",
        "    optimizer.step()\n",
        "    optimizer.zero_grad() # set grads to zero\n",
        "\n",
        "#testing on new data\n",
        "X = torch.Tensor([[10], [40]])  # expected 50, 200\n",
        "predicted = model(X)\n",
        "print(predicted)"
      ],
      "metadata": {
        "id": "G4tqa7OYdXje"
      },
      "execution_count": null,
      "outputs": []
    }
  ]
}